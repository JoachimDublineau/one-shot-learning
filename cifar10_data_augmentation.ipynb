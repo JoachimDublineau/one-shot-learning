{
  "nbformat": 4,
  "nbformat_minor": 0,
  "metadata": {
    "colab": {
      "name": "cifar10_mestests_dataaug.ipynb",
      "provenance": [],
      "collapsed_sections": []
    },
    "kernelspec": {
      "name": "python3",
      "display_name": "Python 3"
    },
    "accelerator": "GPU"
  },
  "cells": [
    {
      "cell_type": "code",
      "metadata": {
        "id": "kqlJnhQh9Ft8",
        "colab_type": "code",
        "colab": {
          "base_uri": "https://localhost:8080/",
          "height": 69
        },
        "outputId": "7539a568-b5c6-403b-dd94-8f7ab9126df6"
      },
      "source": [
        "!curl -O https://www.cs.toronto.edu/~kriz/cifar-10-python.tar.gz"
      ],
      "execution_count": 281,
      "outputs": [
        {
          "output_type": "stream",
          "text": [
            "  % Total    % Received % Xferd  Average Speed   Time    Time     Time  Current\n",
            "                                 Dload  Upload   Total   Spent    Left  Speed\n",
            "100  162M  100  162M    0     0  13.6M      0  0:00:11  0:00:11 --:--:-- 16.7M\n"
          ],
          "name": "stdout"
        }
      ]
    },
    {
      "cell_type": "code",
      "metadata": {
        "id": "FF6IwApVCU2K",
        "colab_type": "code",
        "colab": {
          "base_uri": "https://localhost:8080/",
          "height": 173
        },
        "outputId": "207483bd-d193-4499-b291-89e4186dd12e"
      },
      "source": [
        "!tar xvzf cifar-10-python.tar.gz"
      ],
      "execution_count": 282,
      "outputs": [
        {
          "output_type": "stream",
          "text": [
            "cifar-10-batches-py/\n",
            "cifar-10-batches-py/data_batch_4\n",
            "cifar-10-batches-py/readme.html\n",
            "cifar-10-batches-py/test_batch\n",
            "cifar-10-batches-py/data_batch_3\n",
            "cifar-10-batches-py/batches.meta\n",
            "cifar-10-batches-py/data_batch_2\n",
            "cifar-10-batches-py/data_batch_5\n",
            "cifar-10-batches-py/data_batch_1\n"
          ],
          "name": "stdout"
        }
      ]
    },
    {
      "cell_type": "code",
      "metadata": {
        "id": "A1c0cE_fCtf9",
        "colab_type": "code",
        "colab": {}
      },
      "source": [
        "import pickle\n",
        "import matplotlib.pyplot as plt\n",
        "import numpy as np\n",
        "import pandas as pd\n",
        "\n",
        "def load_cifar10_data(batch_number):\n",
        "  with open('cifar-10-batches-py/data_batch_'+ str(batch_number), 'rb') as file:\n",
        "      batch = pickle.load(file, encoding='latin1')\n",
        "\n",
        "  features = batch['data']\n",
        "  labels = batch['labels']\n",
        "  return features, labels"
      ],
      "execution_count": 0,
      "outputs": []
    },
    {
      "cell_type": "code",
      "metadata": {
        "id": "Vnam-T03F9TW",
        "colab_type": "code",
        "colab": {}
      },
      "source": [
        "batch_1, labels_1 = load_cifar10_data(1)\n",
        "batch_2, labels_2 = load_cifar10_data(2)\n",
        "batch_3, labels_3 = load_cifar10_data(3)\n",
        "batch_4, labels_4 = load_cifar10_data(4)\n",
        "batch_5, labels_5 = load_cifar10_data(5)"
      ],
      "execution_count": 0,
      "outputs": []
    },
    {
      "cell_type": "code",
      "metadata": {
        "id": "U7j-zoeWJ8tT",
        "colab_type": "code",
        "colab": {
          "base_uri": "https://localhost:8080/",
          "height": 139
        },
        "outputId": "0a48832d-5f8a-43d2-d97f-f25578dcd73b"
      },
      "source": [
        "batch_3"
      ],
      "execution_count": 285,
      "outputs": [
        {
          "output_type": "execute_result",
          "data": {
            "text/plain": [
              "array([[ 26,  17,  13, ...,  27,  26,  27],\n",
              "       [ 94, 101,  95, ..., 182, 184, 155],\n",
              "       [183, 158, 166, ..., 250, 250, 250],\n",
              "       ...,\n",
              "       [175, 200, 207, ..., 124,  49,  32],\n",
              "       [ 28,  59,  67, ...,  36,  44,  41],\n",
              "       [ 62,  40,  61, ..., 127, 124, 116]], dtype=uint8)"
            ]
          },
          "metadata": {
            "tags": []
          },
          "execution_count": 285
        }
      ]
    },
    {
      "cell_type": "code",
      "metadata": {
        "id": "bz9baQEdGBgt",
        "colab_type": "code",
        "colab": {}
      },
      "source": [
        "import numpy as np\n",
        "\n",
        "all_images = np.append(batch_1, batch_2, axis=0)\n",
        "all_images = all_images.reshape((len(all_images), 3, 32, 32)).transpose(0,2,3,1)\n",
        "all_labels = np.append(labels_1, labels_2, axis=0)"
      ],
      "execution_count": 0,
      "outputs": []
    },
    {
      "cell_type": "code",
      "metadata": {
        "id": "f5MTMXUnK8tD",
        "colab_type": "code",
        "colab": {}
      },
      "source": [
        "X_train = np.append(batch_1[0:8000], batch_2[0:8000], axis=0)\n",
        "X_train = np.append(X_train, batch_3[0:8000], axis=0)\n",
        "X_train = np.append(X_train, batch_4[0:8000], axis=0)\n",
        "X_train = np.append(X_train, batch_5[0:8000], axis=0)\n",
        "\n",
        "Y_train = np.append(labels_1[0:8000], labels_2[0:8000], axis=0)\n",
        "Y_train = np.append(Y_train, labels_3[0:8000], axis=0)\n",
        "Y_train = np.append(Y_train, labels_4[0:8000], axis=0)\n",
        "Y_train = np.append(Y_train, labels_5[0:8000], axis=0)"
      ],
      "execution_count": 0,
      "outputs": []
    },
    {
      "cell_type": "code",
      "metadata": {
        "id": "mbef2Ah9K8wd",
        "colab_type": "code",
        "colab": {}
      },
      "source": [
        "X_validation = np.append(batch_1[8001:9000], batch_2[8001:9000], axis=0)\n",
        "X_validation = np.append(X_validation, batch_3[8001:9000], axis=0)\n",
        "X_validation = np.append(X_validation, batch_4[8001:9000], axis=0)\n",
        "X_validation = np.append(X_validation, batch_5[8001:9000], axis=0)\n",
        "\n",
        "Y_validation = np.append(labels_1[8001:9000], labels_2[8001:9000], axis=0)\n",
        "Y_validation = np.append(Y_validation, labels_3[8001:9000], axis=0)\n",
        "Y_validation = np.append(Y_validation, labels_4[8001:9000], axis=0)\n",
        "Y_validation = np.append(Y_validation, labels_5[8001:9000], axis=0)"
      ],
      "execution_count": 0,
      "outputs": []
    },
    {
      "cell_type": "code",
      "metadata": {
        "id": "qq9cHd71LI8w",
        "colab_type": "code",
        "colab": {}
      },
      "source": [
        "X_test = np.append(batch_1[9001:10000], batch_2[9001:10000], axis=0)\n",
        "X_test = np.append(X_test, batch_3[9001:10000], axis=0)\n",
        "X_test = np.append(X_test, batch_4[9001:10000], axis=0)\n",
        "X_test = np.append(X_test, batch_5[9001:10000], axis=0)\n",
        "\n",
        "Y_test = np.append(labels_1[9001:10000], labels_2[9001:10000], axis=0)\n",
        "Y_test = np.append(Y_test, labels_3[9001:10000], axis=0)\n",
        "Y_test = np.append(Y_test, labels_4[9001:10000], axis=0)\n",
        "Y_test = np.append(Y_test, labels_5[9001:10000], axis=0)"
      ],
      "execution_count": 0,
      "outputs": []
    },
    {
      "cell_type": "code",
      "metadata": {
        "id": "SDzyDSxU83Vv",
        "colab_type": "code",
        "colab": {
          "base_uri": "https://localhost:8080/",
          "height": 69
        },
        "outputId": "9807d57e-4198-4d33-d9b7-6cd9074d3405"
      },
      "source": [
        "print(\"Length of X_train:\", len(X_train), \"Length of Y_train:\", len(Y_train))\n",
        "print(\"Length of X_validation:\",len(X_validation), \"Length of Y_validation:\", len(Y_validation))\n",
        "print(\"Length of X_test:\",len(X_test), \"Length of Y_test:\", len(Y_test))"
      ],
      "execution_count": 293,
      "outputs": [
        {
          "output_type": "stream",
          "text": [
            "Length of X_train: 40000 Length of Y_train: 40000\n",
            "Length of X_validation: 4995 Length of Y_validation: 4995\n",
            "Length of X_test: 4995 Length of Y_test: 4995\n"
          ],
          "name": "stdout"
        }
      ]
    },
    {
      "cell_type": "code",
      "metadata": {
        "id": "ReszAqneMnwR",
        "colab_type": "code",
        "colab": {}
      },
      "source": [
        " %tensorflow_version 1.x\n",
        "from keras.datasets import cifar10\n",
        "from keras.utils import np_utils\n",
        "from keras.models import Model, Sequential\n",
        "from keras.layers import Input, Conv2D, MaxPooling2D, Dense, Dropout, Activation, \\\n",
        "Flatten, Conv3D, MaxPooling3D\n",
        "from keras import regularizers\n",
        "from keras.optimizers import RMSprop, Adam\n",
        "import matplotlib.pyplot as plt\n",
        "from keras.preprocessing.image import ImageDataGenerator"
      ],
      "execution_count": 0,
      "outputs": []
    },
    {
      "cell_type": "code",
      "metadata": {
        "id": "CFc9z6QoLal5",
        "colab_type": "code",
        "colab": {}
      },
      "source": [
        "Y_train_one_hot = np_utils.to_categorical(Y_train, 10)\n",
        "Y_validation_one_hot = np_utils.to_categorical(Y_validation, 10)\n",
        "Y_test_one_hot = np_utils.to_categorical(Y_test, 10)\n",
        "\n",
        "X_train = X_train.reshape((len(X_train), 3, 32, 32)).transpose(0,2,3,1)\n",
        "X_validation = X_validation.reshape((len(X_validation), 3, 32, 32)).transpose(0,2,3,1)\n",
        "X_test = X_test.reshape((len(X_test), 3, 32, 32)).transpose(0,2,3,1)"
      ],
      "execution_count": 0,
      "outputs": []
    },
    {
      "cell_type": "code",
      "metadata": {
        "id": "yudnlRHO8MD9",
        "colab_type": "code",
        "colab": {}
      },
      "source": [
        "\n",
        "\n",
        "\n",
        "#defining parameters\n",
        "\n",
        "epochs=110\n",
        "nb_classes=10\n",
        "conv_1_depth=100\n",
        "conv_2_depth=100\n",
        "conv_3_depth=200\n",
        "conv_4_depth=200\n",
        "conv_5_depth=400\n",
        "dense_1_depth=600\n",
        "dense_2_depth=nb_classes\n",
        "batch_size=32\n",
        "learning_rate=0.0001"
      ],
      "execution_count": 0,
      "outputs": []
    },
    {
      "cell_type": "code",
      "metadata": {
        "id": "5ZVxNjI98dW7",
        "colab_type": "code",
        "colab": {
          "base_uri": "https://localhost:8080/",
          "height": 1000
        },
        "outputId": "3e999ce3-a1fe-4f25-e6e4-1ab359300344"
      },
      "source": [
        "#defining simple CNN model\n",
        "\n",
        "model = Sequential()\n",
        "\n",
        "model.add(Conv2D(conv_1_depth, (3, 3), padding='same',\n",
        "                 input_shape=X_train.shape[1:]))\n",
        "model.add(Activation('relu'))\n",
        "\n",
        "model.add(Conv2D(conv_2_depth, (3, 3), padding='same'))\n",
        "model.add(Activation('relu'))\n",
        "model.add(MaxPooling2D(pool_size=(2, 2)))\n",
        "model.add(Dropout(0.3))\n",
        "\n",
        "model.add(Conv2D(conv_3_depth, (3, 3), padding='same', kernel_regularizer=regularizers.l2(0.0001)))\n",
        "model.add(Activation('relu'))\n",
        "\n",
        "model.add(Conv2D(conv_4_depth, (3, 3), padding='same', kernel_regularizer=regularizers.l2(0.0001)))\n",
        "model.add(Activation('relu'))\n",
        "\n",
        "model.add(Conv2D(conv_5_depth, (3, 3), padding='same', kernel_regularizer=regularizers.l2(0.0001)))\n",
        "model.add(Activation('relu'))\n",
        "model.add(MaxPooling2D(pool_size=(2, 2)))\n",
        "model.add(Dropout(0.3))\n",
        "\n",
        "model.add(Flatten())\n",
        "model.add(Dropout(0.5))\n",
        "model.add(Dense(dense_1_depth,kernel_regularizer=regularizers.l2(0.0001)))\n",
        "model.add(Activation('relu'))\n",
        "model.add(Dropout(0.5))\n",
        "\n",
        "model.add(Dense(dense_2_depth))\n",
        "model.add(Activation('softmax'))\n",
        "\n",
        "#show model summary\n",
        "\n",
        "model.summary()\n",
        "\n",
        "optimizer = Adam(lr=learning_rate)\n",
        "\n",
        "#compile model \n",
        "\n",
        "model.compile(loss='categorical_crossentropy',\n",
        "              optimizer=optimizer,\n",
        "              metrics=['accuracy'])\n",
        "\n",
        "train_datagen = ImageDataGenerator(rescale=1./255, rotation_range=2, width_shift_range=0.15, height_shift_range=0.15, shear_range=0.1, zoom_range=0.1, horizontal_flip=True)\n",
        "\n",
        "train_set = train_datagen.flow(X_train, Y_train_one_hot, batch_size=32)\n",
        "\n",
        "validation_datagen = ImageDataGenerator(rescale=1./255)\n",
        "validation_set = validation_datagen.flow(X_validation, Y_validation_one_hot, batch_size=32)\n",
        "\n",
        "history = model.fit_generator(train_set,\n",
        "                    steps_per_epoch=600,epochs=epochs,\n",
        "                    validation_data=(validation_set), validation_steps=300, shuffle=True)\n",
        "\n"
      ],
      "execution_count": 297,
      "outputs": [
        {
          "output_type": "stream",
          "text": [
            "Model: \"sequential_14\"\n",
            "_________________________________________________________________\n",
            "Layer (type)                 Output Shape              Param #   \n",
            "=================================================================\n",
            "conv2d_66 (Conv2D)           (None, 32, 32, 100)       2800      \n",
            "_________________________________________________________________\n",
            "activation_92 (Activation)   (None, 32, 32, 100)       0         \n",
            "_________________________________________________________________\n",
            "conv2d_67 (Conv2D)           (None, 32, 32, 100)       90100     \n",
            "_________________________________________________________________\n",
            "activation_93 (Activation)   (None, 32, 32, 100)       0         \n",
            "_________________________________________________________________\n",
            "max_pooling2d_27 (MaxPooling (None, 16, 16, 100)       0         \n",
            "_________________________________________________________________\n",
            "dropout_53 (Dropout)         (None, 16, 16, 100)       0         \n",
            "_________________________________________________________________\n",
            "conv2d_68 (Conv2D)           (None, 16, 16, 200)       180200    \n",
            "_________________________________________________________________\n",
            "activation_94 (Activation)   (None, 16, 16, 200)       0         \n",
            "_________________________________________________________________\n",
            "conv2d_69 (Conv2D)           (None, 16, 16, 200)       360200    \n",
            "_________________________________________________________________\n",
            "activation_95 (Activation)   (None, 16, 16, 200)       0         \n",
            "_________________________________________________________________\n",
            "conv2d_70 (Conv2D)           (None, 16, 16, 400)       720400    \n",
            "_________________________________________________________________\n",
            "activation_96 (Activation)   (None, 16, 16, 400)       0         \n",
            "_________________________________________________________________\n",
            "max_pooling2d_28 (MaxPooling (None, 8, 8, 400)         0         \n",
            "_________________________________________________________________\n",
            "dropout_54 (Dropout)         (None, 8, 8, 400)         0         \n",
            "_________________________________________________________________\n",
            "flatten_14 (Flatten)         (None, 25600)             0         \n",
            "_________________________________________________________________\n",
            "dropout_55 (Dropout)         (None, 25600)             0         \n",
            "_________________________________________________________________\n",
            "dense_27 (Dense)             (None, 600)               15360600  \n",
            "_________________________________________________________________\n",
            "activation_97 (Activation)   (None, 600)               0         \n",
            "_________________________________________________________________\n",
            "dropout_56 (Dropout)         (None, 600)               0         \n",
            "_________________________________________________________________\n",
            "dense_28 (Dense)             (None, 10)                6010      \n",
            "_________________________________________________________________\n",
            "activation_98 (Activation)   (None, 10)                0         \n",
            "=================================================================\n",
            "Total params: 16,720,310\n",
            "Trainable params: 16,720,310\n",
            "Non-trainable params: 0\n",
            "_________________________________________________________________\n",
            "Epoch 1/110\n",
            "600/600 [==============================] - 18s 30ms/step - loss: 2.0927 - acc: 0.2797 - val_loss: 1.7456 - val_acc: 0.4065\n",
            "Epoch 2/110\n",
            "600/600 [==============================] - 15s 25ms/step - loss: 1.7625 - acc: 0.4026 - val_loss: 1.5492 - val_acc: 0.4893\n",
            "Epoch 3/110\n",
            "600/600 [==============================] - 15s 25ms/step - loss: 1.6548 - acc: 0.4419 - val_loss: 1.5030 - val_acc: 0.4976\n",
            "Epoch 4/110\n",
            "600/600 [==============================] - 15s 25ms/step - loss: 1.5379 - acc: 0.4864 - val_loss: 1.3394 - val_acc: 0.5639\n",
            "Epoch 5/110\n",
            "600/600 [==============================] - 15s 25ms/step - loss: 1.4564 - acc: 0.5238 - val_loss: 1.4582 - val_acc: 0.5466\n",
            "Epoch 6/110\n",
            "600/600 [==============================] - 15s 25ms/step - loss: 1.4009 - acc: 0.5420 - val_loss: 1.1858 - val_acc: 0.6279\n",
            "Epoch 7/110\n",
            "600/600 [==============================] - 15s 25ms/step - loss: 1.3406 - acc: 0.5624 - val_loss: 1.1439 - val_acc: 0.6388\n",
            "Epoch 8/110\n",
            "600/600 [==============================] - 15s 25ms/step - loss: 1.3106 - acc: 0.5807 - val_loss: 1.1624 - val_acc: 0.6312\n",
            "Epoch 9/110\n",
            "600/600 [==============================] - 15s 25ms/step - loss: 1.2669 - acc: 0.5974 - val_loss: 1.2404 - val_acc: 0.6222\n",
            "Epoch 10/110\n",
            "600/600 [==============================] - 15s 25ms/step - loss: 1.2388 - acc: 0.6119 - val_loss: 1.1461 - val_acc: 0.6442\n",
            "Epoch 11/110\n",
            "600/600 [==============================] - 15s 25ms/step - loss: 1.1996 - acc: 0.6258 - val_loss: 1.1016 - val_acc: 0.6626\n",
            "Epoch 12/110\n",
            "600/600 [==============================] - 15s 25ms/step - loss: 1.1812 - acc: 0.6321 - val_loss: 1.0631 - val_acc: 0.6766\n",
            "Epoch 13/110\n",
            "600/600 [==============================] - 15s 25ms/step - loss: 1.1505 - acc: 0.6468 - val_loss: 1.0781 - val_acc: 0.6694\n",
            "Epoch 14/110\n",
            "600/600 [==============================] - 15s 25ms/step - loss: 1.1303 - acc: 0.6543 - val_loss: 1.0441 - val_acc: 0.6914\n",
            "Epoch 15/110\n",
            "600/600 [==============================] - 15s 25ms/step - loss: 1.1075 - acc: 0.6670 - val_loss: 1.1010 - val_acc: 0.6785\n",
            "Epoch 16/110\n",
            "600/600 [==============================] - 15s 25ms/step - loss: 1.0923 - acc: 0.6705 - val_loss: 1.0335 - val_acc: 0.6953\n",
            "Epoch 17/110\n",
            "600/600 [==============================] - 15s 25ms/step - loss: 1.0651 - acc: 0.6842 - val_loss: 1.0099 - val_acc: 0.7074\n",
            "Epoch 18/110\n",
            "600/600 [==============================] - 15s 25ms/step - loss: 1.0511 - acc: 0.6874 - val_loss: 0.9766 - val_acc: 0.7100\n",
            "Epoch 19/110\n",
            "600/600 [==============================] - 15s 25ms/step - loss: 1.0406 - acc: 0.6935 - val_loss: 0.9205 - val_acc: 0.7377\n",
            "Epoch 20/110\n",
            "600/600 [==============================] - 15s 25ms/step - loss: 1.0200 - acc: 0.7014 - val_loss: 0.9973 - val_acc: 0.7108\n",
            "Epoch 21/110\n",
            "600/600 [==============================] - 15s 25ms/step - loss: 1.0131 - acc: 0.7044 - val_loss: 0.9547 - val_acc: 0.7285\n",
            "Epoch 22/110\n",
            "600/600 [==============================] - 15s 25ms/step - loss: 0.9980 - acc: 0.7102 - val_loss: 0.8811 - val_acc: 0.7551\n",
            "Epoch 23/110\n",
            "600/600 [==============================] - 15s 25ms/step - loss: 0.9891 - acc: 0.7176 - val_loss: 0.9828 - val_acc: 0.7199\n",
            "Epoch 24/110\n",
            "600/600 [==============================] - 15s 25ms/step - loss: 0.9761 - acc: 0.7212 - val_loss: 0.8526 - val_acc: 0.7625\n",
            "Epoch 25/110\n",
            "600/600 [==============================] - 15s 25ms/step - loss: 0.9612 - acc: 0.7264 - val_loss: 0.9048 - val_acc: 0.7484\n",
            "Epoch 26/110\n",
            "600/600 [==============================] - 15s 25ms/step - loss: 0.9503 - acc: 0.7291 - val_loss: 0.8209 - val_acc: 0.7802\n",
            "Epoch 27/110\n",
            "600/600 [==============================] - 15s 25ms/step - loss: 0.9503 - acc: 0.7324 - val_loss: 0.8187 - val_acc: 0.7783\n",
            "Epoch 28/110\n",
            "600/600 [==============================] - 15s 25ms/step - loss: 0.9294 - acc: 0.7401 - val_loss: 0.8068 - val_acc: 0.7809\n",
            "Epoch 29/110\n",
            "600/600 [==============================] - 15s 25ms/step - loss: 0.9353 - acc: 0.7428 - val_loss: 0.9096 - val_acc: 0.7553\n",
            "Epoch 30/110\n",
            "600/600 [==============================] - 15s 25ms/step - loss: 0.9151 - acc: 0.7507 - val_loss: 0.8514 - val_acc: 0.7790\n",
            "Epoch 31/110\n",
            "600/600 [==============================] - 15s 25ms/step - loss: 0.9163 - acc: 0.7498 - val_loss: 0.8620 - val_acc: 0.7644\n",
            "Epoch 32/110\n",
            "600/600 [==============================] - 15s 25ms/step - loss: 0.8970 - acc: 0.7584 - val_loss: 0.8458 - val_acc: 0.7737\n",
            "Epoch 33/110\n",
            "600/600 [==============================] - 15s 25ms/step - loss: 0.8999 - acc: 0.7563 - val_loss: 0.8207 - val_acc: 0.7833\n",
            "Epoch 34/110\n",
            "600/600 [==============================] - 15s 25ms/step - loss: 0.8874 - acc: 0.7601 - val_loss: 0.8194 - val_acc: 0.7861\n",
            "Epoch 35/110\n",
            "600/600 [==============================] - 15s 25ms/step - loss: 0.8757 - acc: 0.7648 - val_loss: 0.8739 - val_acc: 0.7639\n",
            "Epoch 36/110\n",
            "600/600 [==============================] - 15s 25ms/step - loss: 0.8896 - acc: 0.7592 - val_loss: 0.7832 - val_acc: 0.7957\n",
            "Epoch 37/110\n",
            "600/600 [==============================] - 15s 25ms/step - loss: 0.8695 - acc: 0.7684 - val_loss: 0.8564 - val_acc: 0.7759\n",
            "Epoch 38/110\n",
            "600/600 [==============================] - 15s 25ms/step - loss: 0.8571 - acc: 0.7749 - val_loss: 0.7937 - val_acc: 0.7951\n",
            "Epoch 39/110\n",
            "600/600 [==============================] - 15s 25ms/step - loss: 0.8703 - acc: 0.7711 - val_loss: 0.8058 - val_acc: 0.7925\n",
            "Epoch 40/110\n",
            "600/600 [==============================] - 15s 25ms/step - loss: 0.8562 - acc: 0.7759 - val_loss: 0.8028 - val_acc: 0.7961\n",
            "Epoch 41/110\n",
            "600/600 [==============================] - 15s 25ms/step - loss: 0.8444 - acc: 0.7805 - val_loss: 0.7765 - val_acc: 0.8061\n",
            "Epoch 42/110\n",
            "600/600 [==============================] - 15s 25ms/step - loss: 0.8468 - acc: 0.7833 - val_loss: 0.7541 - val_acc: 0.8084\n",
            "Epoch 43/110\n",
            "600/600 [==============================] - 15s 25ms/step - loss: 0.8446 - acc: 0.7814 - val_loss: 0.8008 - val_acc: 0.7958\n",
            "Epoch 44/110\n",
            "600/600 [==============================] - 15s 25ms/step - loss: 0.8275 - acc: 0.7886 - val_loss: 0.7367 - val_acc: 0.8211\n",
            "Epoch 45/110\n",
            "600/600 [==============================] - 15s 24ms/step - loss: 0.8315 - acc: 0.7818 - val_loss: 0.7336 - val_acc: 0.8212\n",
            "Epoch 46/110\n",
            "600/600 [==============================] - 15s 25ms/step - loss: 0.8232 - acc: 0.7872 - val_loss: 0.7418 - val_acc: 0.8190\n",
            "Epoch 47/110\n",
            "600/600 [==============================] - 15s 25ms/step - loss: 0.8144 - acc: 0.7906 - val_loss: 0.7938 - val_acc: 0.8011\n",
            "Epoch 48/110\n",
            "600/600 [==============================] - 15s 25ms/step - loss: 0.8186 - acc: 0.7898 - val_loss: 0.7729 - val_acc: 0.8087\n",
            "Epoch 49/110\n",
            "600/600 [==============================] - 15s 25ms/step - loss: 0.8022 - acc: 0.7960 - val_loss: 0.7033 - val_acc: 0.8340\n",
            "Epoch 50/110\n",
            "600/600 [==============================] - 15s 25ms/step - loss: 0.8215 - acc: 0.7927 - val_loss: 0.7484 - val_acc: 0.8122\n",
            "Epoch 51/110\n",
            "600/600 [==============================] - 15s 25ms/step - loss: 0.7898 - acc: 0.8015 - val_loss: 0.7293 - val_acc: 0.8227\n",
            "Epoch 52/110\n",
            "600/600 [==============================] - 15s 25ms/step - loss: 0.8052 - acc: 0.7990 - val_loss: 0.7251 - val_acc: 0.8272\n",
            "Epoch 53/110\n",
            "600/600 [==============================] - 15s 25ms/step - loss: 0.7898 - acc: 0.8028 - val_loss: 0.7348 - val_acc: 0.8231\n",
            "Epoch 54/110\n",
            "600/600 [==============================] - 15s 25ms/step - loss: 0.8030 - acc: 0.7991 - val_loss: 0.7911 - val_acc: 0.8048\n",
            "Epoch 55/110\n",
            "600/600 [==============================] - 15s 25ms/step - loss: 0.7864 - acc: 0.8072 - val_loss: 0.7042 - val_acc: 0.8361\n",
            "Epoch 56/110\n",
            "600/600 [==============================] - 15s 25ms/step - loss: 0.7841 - acc: 0.8072 - val_loss: 0.7906 - val_acc: 0.8061\n",
            "Epoch 57/110\n",
            "600/600 [==============================] - 15s 25ms/step - loss: 0.7685 - acc: 0.8135 - val_loss: 0.8189 - val_acc: 0.8091\n",
            "Epoch 58/110\n",
            "600/600 [==============================] - 15s 25ms/step - loss: 0.7826 - acc: 0.8090 - val_loss: 0.7143 - val_acc: 0.8322\n",
            "Epoch 59/110\n",
            "600/600 [==============================] - 15s 25ms/step - loss: 0.7751 - acc: 0.8098 - val_loss: 0.7267 - val_acc: 0.8280\n",
            "Epoch 60/110\n",
            "600/600 [==============================] - 15s 25ms/step - loss: 0.7732 - acc: 0.8129 - val_loss: 0.7550 - val_acc: 0.8167\n",
            "Epoch 61/110\n",
            "600/600 [==============================] - 15s 25ms/step - loss: 0.7655 - acc: 0.8180 - val_loss: 0.7306 - val_acc: 0.8295\n",
            "Epoch 62/110\n",
            "600/600 [==============================] - 15s 25ms/step - loss: 0.7656 - acc: 0.8145 - val_loss: 0.7773 - val_acc: 0.8094\n",
            "Epoch 63/110\n",
            "600/600 [==============================] - 15s 25ms/step - loss: 0.7610 - acc: 0.8165 - val_loss: 0.7859 - val_acc: 0.8128\n",
            "Epoch 64/110\n",
            "600/600 [==============================] - 15s 25ms/step - loss: 0.7417 - acc: 0.8223 - val_loss: 0.7092 - val_acc: 0.8359\n",
            "Epoch 65/110\n",
            "600/600 [==============================] - 15s 25ms/step - loss: 0.7590 - acc: 0.8201 - val_loss: 0.7470 - val_acc: 0.8207\n",
            "Epoch 66/110\n",
            "600/600 [==============================] - 15s 25ms/step - loss: 0.7444 - acc: 0.8231 - val_loss: 0.6893 - val_acc: 0.8444\n",
            "Epoch 67/110\n",
            "600/600 [==============================] - 15s 25ms/step - loss: 0.7571 - acc: 0.8168 - val_loss: 0.7276 - val_acc: 0.8240\n",
            "Epoch 68/110\n",
            "600/600 [==============================] - 15s 25ms/step - loss: 0.7403 - acc: 0.8301 - val_loss: 0.7077 - val_acc: 0.8415\n",
            "Epoch 69/110\n",
            "600/600 [==============================] - 15s 24ms/step - loss: 0.7374 - acc: 0.8247 - val_loss: 0.7415 - val_acc: 0.8298\n",
            "Epoch 70/110\n",
            "600/600 [==============================] - 15s 25ms/step - loss: 0.7425 - acc: 0.8247 - val_loss: 0.7920 - val_acc: 0.8201\n",
            "Epoch 71/110\n",
            "600/600 [==============================] - 15s 25ms/step - loss: 0.7381 - acc: 0.8243 - val_loss: 0.7513 - val_acc: 0.8277\n",
            "Epoch 72/110\n",
            "600/600 [==============================] - 15s 25ms/step - loss: 0.7271 - acc: 0.8318 - val_loss: 0.6705 - val_acc: 0.8543\n",
            "Epoch 73/110\n",
            "600/600 [==============================] - 15s 25ms/step - loss: 0.7402 - acc: 0.8285 - val_loss: 0.6833 - val_acc: 0.8515\n",
            "Epoch 74/110\n",
            "600/600 [==============================] - 15s 24ms/step - loss: 0.7332 - acc: 0.8295 - val_loss: 0.7319 - val_acc: 0.8317\n",
            "Epoch 75/110\n",
            "600/600 [==============================] - 15s 25ms/step - loss: 0.7152 - acc: 0.8328 - val_loss: 0.7301 - val_acc: 0.8387\n",
            "Epoch 76/110\n",
            "600/600 [==============================] - 15s 24ms/step - loss: 0.7209 - acc: 0.8346 - val_loss: 0.6914 - val_acc: 0.8449\n",
            "Epoch 77/110\n",
            "600/600 [==============================] - 15s 25ms/step - loss: 0.7220 - acc: 0.8351 - val_loss: 0.7012 - val_acc: 0.8397\n",
            "Epoch 78/110\n",
            "600/600 [==============================] - 15s 25ms/step - loss: 0.7143 - acc: 0.8362 - val_loss: 0.7704 - val_acc: 0.8171\n",
            "Epoch 79/110\n",
            "600/600 [==============================] - 15s 25ms/step - loss: 0.7228 - acc: 0.8335 - val_loss: 0.7278 - val_acc: 0.8389\n",
            "Epoch 80/110\n",
            "600/600 [==============================] - 15s 25ms/step - loss: 0.7035 - acc: 0.8439 - val_loss: 0.6548 - val_acc: 0.8599\n",
            "Epoch 81/110\n",
            "600/600 [==============================] - 15s 25ms/step - loss: 0.7056 - acc: 0.8418 - val_loss: 0.6890 - val_acc: 0.8434\n",
            "Epoch 82/110\n",
            "600/600 [==============================] - 15s 25ms/step - loss: 0.7121 - acc: 0.8355 - val_loss: 0.6711 - val_acc: 0.8530\n",
            "Epoch 83/110\n",
            "600/600 [==============================] - 15s 25ms/step - loss: 0.6999 - acc: 0.8428 - val_loss: 0.8060 - val_acc: 0.8176\n",
            "Epoch 84/110\n",
            "600/600 [==============================] - 15s 25ms/step - loss: 0.6972 - acc: 0.8408 - val_loss: 0.6510 - val_acc: 0.8618\n",
            "Epoch 85/110\n",
            "600/600 [==============================] - 15s 25ms/step - loss: 0.7024 - acc: 0.8406 - val_loss: 0.6952 - val_acc: 0.8473\n",
            "Epoch 86/110\n",
            "600/600 [==============================] - 15s 25ms/step - loss: 0.6988 - acc: 0.8409 - val_loss: 0.6922 - val_acc: 0.8464\n",
            "Epoch 87/110\n",
            "600/600 [==============================] - 15s 25ms/step - loss: 0.7036 - acc: 0.8450 - val_loss: 0.6522 - val_acc: 0.8621\n",
            "Epoch 88/110\n",
            "600/600 [==============================] - 15s 25ms/step - loss: 0.6852 - acc: 0.8466 - val_loss: 0.7275 - val_acc: 0.8389\n",
            "Epoch 89/110\n",
            "600/600 [==============================] - 15s 25ms/step - loss: 0.6832 - acc: 0.8479 - val_loss: 0.6781 - val_acc: 0.8545\n",
            "Epoch 90/110\n",
            "600/600 [==============================] - 15s 25ms/step - loss: 0.6857 - acc: 0.8510 - val_loss: 0.6624 - val_acc: 0.8589\n",
            "Epoch 91/110\n",
            "600/600 [==============================] - 15s 25ms/step - loss: 0.6907 - acc: 0.8473 - val_loss: 0.6798 - val_acc: 0.8549\n",
            "Epoch 92/110\n",
            "600/600 [==============================] - 15s 25ms/step - loss: 0.6855 - acc: 0.8483 - val_loss: 0.7576 - val_acc: 0.8324\n",
            "Epoch 93/110\n",
            "600/600 [==============================] - 15s 25ms/step - loss: 0.6769 - acc: 0.8502 - val_loss: 0.6536 - val_acc: 0.8608\n",
            "Epoch 94/110\n",
            "600/600 [==============================] - 15s 25ms/step - loss: 0.6805 - acc: 0.8521 - val_loss: 0.6591 - val_acc: 0.8627\n",
            "Epoch 95/110\n",
            "600/600 [==============================] - 15s 25ms/step - loss: 0.6656 - acc: 0.8556 - val_loss: 0.6831 - val_acc: 0.8563\n",
            "Epoch 96/110\n",
            "600/600 [==============================] - 15s 25ms/step - loss: 0.6830 - acc: 0.8497 - val_loss: 0.7122 - val_acc: 0.8476\n",
            "Epoch 97/110\n",
            "600/600 [==============================] - 15s 25ms/step - loss: 0.6687 - acc: 0.8553 - val_loss: 0.6806 - val_acc: 0.8532\n",
            "Epoch 98/110\n",
            "600/600 [==============================] - 15s 25ms/step - loss: 0.6747 - acc: 0.8510 - val_loss: 0.6734 - val_acc: 0.8579\n",
            "Epoch 99/110\n",
            "600/600 [==============================] - 15s 25ms/step - loss: 0.6744 - acc: 0.8508 - val_loss: 0.6847 - val_acc: 0.8579\n",
            "Epoch 100/110\n",
            "600/600 [==============================] - 15s 25ms/step - loss: 0.6675 - acc: 0.8580 - val_loss: 0.8076 - val_acc: 0.8245\n",
            "Epoch 101/110\n",
            "600/600 [==============================] - 15s 25ms/step - loss: 0.6549 - acc: 0.8600 - val_loss: 0.7109 - val_acc: 0.8463\n",
            "Epoch 102/110\n",
            "600/600 [==============================] - 15s 25ms/step - loss: 0.6627 - acc: 0.8597 - val_loss: 0.6920 - val_acc: 0.8540\n",
            "Epoch 103/110\n",
            "600/600 [==============================] - 15s 25ms/step - loss: 0.6603 - acc: 0.8581 - val_loss: 0.6843 - val_acc: 0.8539\n",
            "Epoch 104/110\n",
            "600/600 [==============================] - 15s 25ms/step - loss: 0.6651 - acc: 0.8569 - val_loss: 0.6534 - val_acc: 0.8660\n",
            "Epoch 105/110\n",
            "600/600 [==============================] - 15s 25ms/step - loss: 0.6625 - acc: 0.8569 - val_loss: 0.6478 - val_acc: 0.8687\n",
            "Epoch 106/110\n",
            "600/600 [==============================] - 15s 25ms/step - loss: 0.6586 - acc: 0.8613 - val_loss: 0.6368 - val_acc: 0.8733\n",
            "Epoch 107/110\n",
            "600/600 [==============================] - 15s 25ms/step - loss: 0.6435 - acc: 0.8635 - val_loss: 0.6815 - val_acc: 0.8582\n",
            "Epoch 108/110\n",
            "600/600 [==============================] - 15s 25ms/step - loss: 0.6519 - acc: 0.8631 - val_loss: 0.6847 - val_acc: 0.8572\n",
            "Epoch 109/110\n",
            "600/600 [==============================] - 15s 25ms/step - loss: 0.6519 - acc: 0.8645 - val_loss: 0.6512 - val_acc: 0.8652\n",
            "Epoch 110/110\n",
            "600/600 [==============================] - 15s 24ms/step - loss: 0.6565 - acc: 0.8628 - val_loss: 0.6575 - val_acc: 0.8654\n"
          ],
          "name": "stdout"
        }
      ]
    },
    {
      "cell_type": "code",
      "metadata": {
        "id": "ovA3fGZe8dtV",
        "colab_type": "code",
        "colab": {
          "base_uri": "https://localhost:8080/",
          "height": 295
        },
        "outputId": "6e13a949-064f-4543-86b3-b2a683c184c7"
      },
      "source": [
        "#plot training and validation sets' losses\n",
        "\n",
        "loss = history.history[\"loss\"]\n",
        "val_loss = history.history[\"val_loss\"]\n",
        "epochs = range(1, len(loss) + 1)\n",
        "plt.plot(epochs, loss, \"bo\", label=\"Training loss\")\n",
        "plt.plot(epochs, val_loss, \"b\", label=\"Validation loss\")\n",
        "plt.title(\"Training and validation loss\")\n",
        "plt.xlabel(\"Epochs\")\n",
        "plt.ylabel(\"Loss\")\n",
        "plt.legend()\n",
        "plt.show()"
      ],
      "execution_count": 298,
      "outputs": [
        {
          "output_type": "display_data",
          "data": {
            "image/png": "[encoded data removed]",
            "text/plain": [
              "<Figure size 432x288 with 1 Axes>"
            ]
          },
          "metadata": {
            "tags": []
          }
        }
      ]
    },
    {
      "cell_type": "code",
      "metadata": {
        "id": "akQkvEgs8gOq",
        "colab_type": "code",
        "colab": {
          "base_uri": "https://localhost:8080/",
          "height": 52
        },
        "outputId": "a9491c12-e0b2-4465-84d7-209fb6ea0385"
      },
      "source": [
        "#evaluate on the test set \n",
        "X_test = (X_test)*1./255 \n",
        "print(model.evaluate(X_test, Y_test_one_hot, batch_size=32))\n",
        "\n"
      ],
      "execution_count": 299,
      "outputs": [
        {
          "output_type": "stream",
          "text": [
            "4995/4995 [==============================] - 1s 168us/step\n",
            "[0.6736694541719702, 0.8640640640640641]\n"
          ],
          "name": "stdout"
        }
      ]
    }
  ]
}