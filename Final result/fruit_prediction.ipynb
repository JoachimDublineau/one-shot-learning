{
  "nbformat": 4,
  "nbformat_minor": 0,
  "metadata": {
    "colab": {
      "name": "fruit_prediction.ipynb",
      "provenance": [],
      "collapsed_sections": [],
      "toc_visible": true
    },
    "kernelspec": {
      "name": "python3",
      "display_name": "Python 3"
    },
    "accelerator": "GPU"
  },
  "cells": [
    {
      "cell_type": "code",
      "metadata": {
        "id": "EwaVVabhFevf",
        "colab_type": "code",
        "outputId": "0b1cbcb1-8593-44de-e91b-a7ed67a4848c",
        "colab": {
          "base_uri": "https://localhost:8080/",
          "height": 34
        }
      },
      "source": [
        "from google.colab import drive\n",
        "drive.mount('drive')"
      ],
      "execution_count": 49,
      "outputs": [
        {
          "output_type": "stream",
          "text": [
            "Drive already mounted at drive; to attempt to forcibly remount, call drive.mount(\"drive\", force_remount=True).\n"
          ],
          "name": "stdout"
        }
      ]
    },
    {
      "cell_type": "markdown",
      "metadata": {
        "id": "RKirxU9GTls8",
        "colab_type": "text"
      },
      "source": [
        "## roi detection"
      ]
    },
    {
      "cell_type": "code",
      "metadata": {
        "id": "3iOZ6IWIFqmD",
        "colab_type": "code",
        "colab": {}
      },
      "source": [
        "import sys\n",
        "import cv2\n",
        "from google.colab.patches import cv2_imshow\n",
        "import time\n",
        "import numpy as np\n",
        "from numpy.linalg import norm\n",
        "from scipy.spatial.distance import cdist\n",
        "import matplotlib.pyplot as plt\n",
        "from keras.preprocessing import image\n",
        "\n",
        "def show_roi_proposed(img, rects):\n",
        "  print('Total Number of Region Proposals: {}'.format(len(rects)))\n",
        "  numShowRects = 100\n",
        "  imOut = img.copy()\n",
        "  for i, rect in enumerate(rects):\n",
        "    x, y, w, h = rect\n",
        "    cv2.rectangle(imOut, (x, y), (x+w, y+h), (0, 255, 0), 1, cv2.LINE_AA)\n",
        "  cv2_imshow(imOut)\n",
        "\n",
        "\n",
        "def get_rects(img, strategy=0):\n",
        "  \"\"\"three strategies to choose:\n",
        "  0.SelectiveSearchQuality: produce more rects(sometimes too much)\n",
        "  1.SelectiveSearchFast: faster method, less rects\n",
        "  2.SingleStrategy: Fastest, and has least number of rects(also good quality when we have less noise)\n",
        "  \"\"\"\n",
        "  ss = cv2.ximgproc.segmentation.createSelectiveSearchSegmentation()\n",
        "  ss.setBaseImage(img)\n",
        "\n",
        "  if strategy==0:\n",
        "    ss.switchToSelectiveSearchQuality()\n",
        "  elif strategy==1:\n",
        "    ss.switchToSelectiveSearchFast()\n",
        "  else:\n",
        "    ss.switchToSingleStrategy()\n",
        "\n",
        "  rects = ss.process()\n",
        "  return rects\n",
        "\n",
        "def remove_useless_rects_efficient(rects): \n",
        "  rect_f = rects.copy()\n",
        "  time_start = time.time()\n",
        "  #get rid of rects too thin\n",
        "  rects_delete_index = []\n",
        "  for i in range(rect_f.shape[0]):\n",
        "    if rect_f[i,2]*1.0/rect_f[i,3] > 5 or rect_f[i,2]*1.0/rect_f[i,3] < 0.2:\n",
        "      rects_delete_index.append(i)\n",
        "  rect_f = np.delete(rect_f,rects_delete_index,axis=0)\n",
        "\n",
        "  #set dimension 3,4 as coordinate of 2nd point in diagonal to facilite the calculate of distance\n",
        "  rect_f[:,2:] = rect_f[:,2:] + rect_f[:,:2]\n",
        "  #get rid of rects too close and similar\n",
        "  rects_delete_index = set()\n",
        "  distance = cdist(rect_f[:,:2], rect_f[:,:2])\n",
        "  distance_diagonal = np.sum(np.abs(rect_f[:,:2]-rect_f[:,2:]),axis=1)\n",
        "  distance_2 = cdist(rect_f[:,2:], rect_f[:,2:])\n",
        "  for i in range(distance.shape[0]):\n",
        "    if i in rects_delete_index:\n",
        "        continue\n",
        "    for j in range(i+1, distance.shape[0]):\n",
        "      if j in rects_delete_index:\n",
        "        continue\n",
        "      #if the rects are too close and similar\n",
        "      if distance[i,j] < distance_diagonal[i]*0.1 and distance_2[i,j]<distance_diagonal[i]*0.3:\n",
        "        rect_f[j] = np.array([min(rect_f[i,0],rect_f[j,0]), min(rect_f[i,1],rect_f[j,1]),max(rect_f[i,2],rect_f[j,2]),max(rect_f[i,3],rect_f[j,3])]).flatten()\n",
        "        rects_delete_index.add(i)\n",
        "        distance_diagonal[j] = np.sum(np.abs(rect_f[j,:2]-rect_f[j,2:]))\n",
        "        distance[j,:]= cdist(rect_f[j,:2][np.newaxis,:], rect_f[:,:2])\n",
        "        distance_2[j,:] = cdist(rect_f[j,2:][np.newaxis,:], rect_f[:,2:])\n",
        "  rect_f = np.delete(rect_f,list(rects_delete_index),axis=0)\n",
        "  time_end = time.time()\n",
        "  print('propcess finished, using {0:.2f}s'.format(time_end-time_start))\n",
        "  rect_f[:,2:] = rect_f[:,2:] - rect_f[:,:2]\n",
        "  return rect_f\n",
        "  \n",
        "def return_object_image(img):\n",
        "  \"\"\"input: array of image\n",
        "  output: images which may contain objects\n",
        "  \"\"\"\n",
        "  newHeight = 200\n",
        "  # resize image\n",
        "  newWidth = int(img.shape[1]*newHeight/img.shape[0])\n",
        "  img = cv2.resize(img, (newWidth, newHeight))   \n",
        "  # get rects\n",
        "  rects = get_rects(img, strategy=2)\n",
        "  rects = remove_useless_rects_efficient(rects)\n",
        "  show_roi_proposed(img, rects)\n",
        "  potential_obj = []\n",
        "  for i in range(len(rects)):\n",
        "    img_o = img[rects[i,1]:rects[i,1]+rects[i,3],rects[i,0]:rects[i,0]+rects[i,2]].copy()\n",
        "    potential_obj.append(img_o)\n",
        "  return potential_obj"
      ],
      "execution_count": 0,
      "outputs": []
    },
    {
      "cell_type": "markdown",
      "metadata": {
        "id": "7eP9uyzaTxR1",
        "colab_type": "text"
      },
      "source": [
        "## get dataset and trained model"
      ]
    },
    {
      "cell_type": "code",
      "metadata": {
        "id": "B1HAGevJJfxQ",
        "colab_type": "code",
        "colab": {}
      },
      "source": [
        "dir_path = 'drive/My Drive/Fruits/'\n",
        "data_path = dir_path + 'fruits-360_dataset/fruits-360/'\n",
        "\n",
        "images = np.load(data_path+'images2.npy')\n",
        "test_images = np.load(data_path+'test_images2.npy')\n",
        "targets = np.load(data_path+'targets2.npy')\n",
        "test_targets = np.load(data_path+'test_targets2.npy')\n",
        "\n",
        "target_name = ['Apple Red 1', 'Apricot','Avocado', 'Banana','Cherry 1', 'Clementine','Cocos', 'Grape Blue','Lemon', 'Mango']\n",
        "\n",
        "\n",
        "def group_data(imgs, target):\n",
        "  grouped_data = {}\n",
        "  for i in range(10):\n",
        "    grouped_data[i] = imgs[np.argwhere(target==i)[:,0]]\n",
        "  return grouped_data\n",
        "  \n",
        "grouped_data = group_data(images, targets)\n",
        "test_grouped_data = group_data(test_images, test_targets)"
      ],
      "execution_count": 0,
      "outputs": []
    },
    {
      "cell_type": "code",
      "metadata": {
        "id": "AVwdS2MIG3kz",
        "colab_type": "code",
        "colab": {}
      },
      "source": [
        "from keras.models import load_model\n",
        "from keras import backend as K\n",
        "\n",
        "def accuracy(y_true, y_pred):\n",
        "    '''Compute classification accuracy with a fixed threshold on distances.\n",
        "    '''\n",
        "    return K.mean(K.equal(y_true, K.cast(y_pred<0.5, y_true.dtype)))\n",
        "\n",
        "def contrastive_loss(y_true, y_pred):\n",
        "  '''Contrastive loss from Hadsell-et-al.'06\n",
        "  http://yann.lecun.com/exdb/publis/pdf/hadsell-chopra-lecun-06.pdf\n",
        "  '''\n",
        "  margin = 5\n",
        "  square_pred = K.square(y_pred)\n",
        "  margin_square = K.square(K.maximum(margin - y_pred, 0))\n",
        "  return K.mean(y_true * square_pred + (1 - y_true) * margin_square)\n",
        "\n",
        "model_path = dir_path+'fruits2.h5'\n",
        "model = load_model(model_path, custom_objects={'contrastive_loss': contrastive_loss, \"accuracy\" : accuracy})"
      ],
      "execution_count": 0,
      "outputs": []
    },
    {
      "cell_type": "code",
      "metadata": {
        "id": "kw-GSvNfPvEL",
        "colab_type": "code",
        "colab": {}
      },
      "source": [
        "def get_prediction(img, grouped_data, model):\n",
        "  ps = []\n",
        "  for i in range(10):\n",
        "    ps.append(model.predict([img[np.newaxis,:],grouped_data[i][0][np.newaxis,:]]))\n",
        "  return ps"
      ],
      "execution_count": 0,
      "outputs": []
    },
    {
      "cell_type": "markdown",
      "metadata": {
        "id": "QJKuLV9sTq2G",
        "colab_type": "text"
      },
      "source": [
        "## get roi of an image"
      ]
    },
    {
      "cell_type": "code",
      "metadata": {
        "id": "F_piCGZ1GgQL",
        "colab_type": "code",
        "outputId": "e03cfc6c-f4b3-45e4-f7a7-958f4df71311",
        "colab": {
          "base_uri": "https://localhost:8080/",
          "height": 252
        }
      },
      "source": [
        "image_path = 'all_fruits.jpg'\n",
        "img = cv2.imread(image_path)\n",
        "objs = return_object_image(img)"
      ],
      "execution_count": 4,
      "outputs": [
        {
          "output_type": "stream",
          "text": [
            "propcess finished, using 0.01s\n",
            "Total Number of Region Proposals: 24\n"
          ],
          "name": "stdout"
        },
        {
          "output_type": "display_data",
          "data": {
            "image/png": "[encoded data removed]",
            "text/plain": [
              "<PIL.Image.Image image mode=RGB size=200x200 at 0x7F1718BCE5C0>"
            ]
          },
          "metadata": {
            "tags": []
          }
        }
      ]
    },
    {
      "cell_type": "markdown",
      "metadata": {
        "id": "1EFL7ZfPT32o",
        "colab_type": "text"
      },
      "source": [
        "## prediction for every object detected"
      ]
    },
    {
      "cell_type": "code",
      "metadata": {
        "id": "skbSVoAaN12i",
        "colab_type": "code",
        "outputId": "045d8f3e-6433-44e6-922f-c1bda4f8ff0e",
        "colab": {
          "base_uri": "https://localhost:8080/",
          "height": 1000
        }
      },
      "source": [
        "for obj in objs:\n",
        "  cv2_imshow(obj)\n",
        "  img = cv2.resize(obj,(32,32))\n",
        "  # opencv stores images with BGR, while matplotlib stores with RGB\n",
        "  b,g,r = cv2.split(img)       # get b,g,r\n",
        "  img = cv2.merge([r,g,b])     # switch it to rgb\n",
        "  img = img/255.\n",
        "  ps = get_prediction(img, grouped_data, model)\n",
        "  prob = np.min(ps)\n",
        "  index = np.argmin(ps)\n",
        "  print(prob, index, target_name[index])"
      ],
      "execution_count": 43,
      "outputs": [
        {
          "output_type": "display_data",
          "data": {
            "image/png": "[encoded data removed]",
            "text/plain": [
              "<PIL.Image.Image image mode=RGB size=24x36 at 0x7F15A118BAC8>"
            ]
          },
          "metadata": {
            "tags": []
          }
        },
        {
          "output_type": "stream",
          "text": [
            "0.017820874 9 Mango\n"
          ],
          "name": "stdout"
        },
        {
          "output_type": "display_data",
          "data": {
            "image/png": "[encoded data removed]",
            "text/plain": [
              "<PIL.Image.Image image mode=RGB size=10x13 at 0x7F15A118BDD8>"
            ]
          },
          "metadata": {
            "tags": []
          }
        },
        {
          "output_type": "stream",
          "text": [
            "0.0006959867 9 Mango\n"
          ],
          "name": "stdout"
        },
        {
          "output_type": "display_data",
          "data": {
            "image/png": "[encoded data removed]",
            "text/plain": [
              "<PIL.Image.Image image mode=RGB size=35x32 at 0x7F15A11810F0>"
            ]
          },
          "metadata": {
            "tags": []
          }
        },
        {
          "output_type": "stream",
          "text": [
            "0.008544587 5 Clementine\n"
          ],
          "name": "stdout"
        },
        {
          "output_type": "display_data",
          "data": {
            "image/png": "[encoded data removed]",
            "text/plain": [
              "<PIL.Image.Image image mode=RGB size=41x21 at 0x7F15A1181320>"
            ]
          },
          "metadata": {
            "tags": []
          }
        },
        {
          "output_type": "stream",
          "text": [
            "0.04569897 3 Banana\n"
          ],
          "name": "stdout"
        },
        {
          "output_type": "display_data",
          "data": {
            "image/png": "[encoded data removed]",
            "text/plain": [
              "<PIL.Image.Image image mode=RGB size=111x74 at 0x7F15A1181550>"
            ]
          },
          "metadata": {
            "tags": []
          }
        },
        {
          "output_type": "stream",
          "text": [
            "1.5259162 3 Banana\n"
          ],
          "name": "stdout"
        },
        {
          "output_type": "display_data",
          "data": {
            "image/png": "[encoded data removed]",
            "text/plain": [
              "<PIL.Image.Image image mode=RGB size=200x200 at 0x7F15A118BCF8>"
            ]
          },
          "metadata": {
            "tags": []
          }
        },
        {
          "output_type": "stream",
          "text": [
            "0.3918367 5 Clementine\n"
          ],
          "name": "stdout"
        },
        {
          "output_type": "display_data",
          "data": {
            "image/png": "[encoded data removed]",
            "text/plain": [
              "<PIL.Image.Image image mode=RGB size=24x28 at 0x7F15A118BA90>"
            ]
          },
          "metadata": {
            "tags": []
          }
        },
        {
          "output_type": "stream",
          "text": [
            "0.00031622776 7 Grape Blue\n"
          ],
          "name": "stdout"
        },
        {
          "output_type": "display_data",
          "data": {
            "image/png": "[encoded data removed]",
            "text/plain": [
              "<PIL.Image.Image image mode=RGB size=16x29 at 0x7F15A11B0978>"
            ]
          },
          "metadata": {
            "tags": []
          }
        },
        {
          "output_type": "stream",
          "text": [
            "0.001008234 7 Grape Blue\n"
          ],
          "name": "stdout"
        },
        {
          "output_type": "display_data",
          "data": {
            "image/png": "[encoded data removed]",
            "text/plain": [
              "<PIL.Image.Image image mode=RGB size=27x18 at 0x7F15A11A48D0>"
            ]
          },
          "metadata": {
            "tags": []
          }
        },
        {
          "output_type": "stream",
          "text": [
            "0.0025183815 9 Mango\n"
          ],
          "name": "stdout"
        },
        {
          "output_type": "display_data",
          "data": {
            "image/png": "[encoded data removed]",
            "text/plain": [
              "<PIL.Image.Image image mode=RGB size=7x28 at 0x7F15A11A4F28>"
            ]
          },
          "metadata": {
            "tags": []
          }
        },
        {
          "output_type": "stream",
          "text": [
            "0.0007314377 7 Grape Blue\n"
          ],
          "name": "stdout"
        },
        {
          "output_type": "display_data",
          "data": {
            "image/png": "[encoded data removed]",
            "text/plain": [
              "<PIL.Image.Image image mode=RGB size=45x45 at 0x7F15A11A4080>"
            ]
          },
          "metadata": {
            "tags": []
          }
        },
        {
          "output_type": "stream",
          "text": [
            "0.000377965 7 Grape Blue\n"
          ],
          "name": "stdout"
        },
        {
          "output_type": "display_data",
          "data": {
            "image/png": "[encoded data removed]",
            "text/plain": [
              "<PIL.Image.Image image mode=RGB size=24x31 at 0x7F15A11A4588>"
            ]
          },
          "metadata": {
            "tags": []
          }
        },
        {
          "output_type": "stream",
          "text": [
            "0.0047042263 8 Lemon\n"
          ],
          "name": "stdout"
        },
        {
          "output_type": "display_data",
          "data": {
            "image/png": "[encoded data removed]",
            "text/plain": [
              "<PIL.Image.Image image mode=RGB size=27x23 at 0x7F15A11A4E10>"
            ]
          },
          "metadata": {
            "tags": []
          }
        },
        {
          "output_type": "stream",
          "text": [
            "0.00031622776 7 Grape Blue\n"
          ],
          "name": "stdout"
        },
        {
          "output_type": "display_data",
          "data": {
            "image/png": "[encoded data removed]",
            "text/plain": [
              "<PIL.Image.Image image mode=RGB size=17x49 at 0x7F15A11A4CF8>"
            ]
          },
          "metadata": {
            "tags": []
          }
        },
        {
          "output_type": "stream",
          "text": [
            "0.001566482 7 Grape Blue\n"
          ],
          "name": "stdout"
        },
        {
          "output_type": "display_data",
          "data": {
            "image/png": "[encoded data removed]",
            "text/plain": [
              "<PIL.Image.Image image mode=RGB size=27x33 at 0x7F15A11A4278>"
            ]
          },
          "metadata": {
            "tags": []
          }
        },
        {
          "output_type": "stream",
          "text": [
            "0.009759594 9 Mango\n"
          ],
          "name": "stdout"
        },
        {
          "output_type": "display_data",
          "data": {
            "image/png": "[encoded data removed]",
            "text/plain": [
              "<PIL.Image.Image image mode=RGB size=31x49 at 0x7F15A11FFD68>"
            ]
          },
          "metadata": {
            "tags": []
          }
        },
        {
          "output_type": "stream",
          "text": [
            "0.0005668301 4 Cherry 1\n"
          ],
          "name": "stdout"
        },
        {
          "output_type": "display_data",
          "data": {
            "image/png": "[encoded data removed]",
            "text/plain": [
              "<PIL.Image.Image image mode=RGB size=34x42 at 0x7F15A11B0B70>"
            ]
          },
          "metadata": {
            "tags": []
          }
        },
        {
          "output_type": "stream",
          "text": [
            "0.028976616 5 Clementine\n"
          ],
          "name": "stdout"
        },
        {
          "output_type": "display_data",
          "data": {
            "image/png": "[encoded data removed]",
            "text/plain": [
              "<PIL.Image.Image image mode=RGB size=45x46 at 0x7F15A118BB00>"
            ]
          },
          "metadata": {
            "tags": []
          }
        },
        {
          "output_type": "stream",
          "text": [
            "0.002782326 1 Apricot\n"
          ],
          "name": "stdout"
        },
        {
          "output_type": "display_data",
          "data": {
            "image/png": "[encoded data removed]",
            "text/plain": [
              "<PIL.Image.Image image mode=RGB size=35x39 at 0x7F15A118BEB8>"
            ]
          },
          "metadata": {
            "tags": []
          }
        },
        {
          "output_type": "stream",
          "text": [
            "0.00212584 9 Mango\n"
          ],
          "name": "stdout"
        },
        {
          "output_type": "display_data",
          "data": {
            "image/png": "[encoded data removed]",
            "text/plain": [
              "<PIL.Image.Image image mode=RGB size=30x42 at 0x7F15A11A4C18>"
            ]
          },
          "metadata": {
            "tags": []
          }
        },
        {
          "output_type": "stream",
          "text": [
            "0.0692143 9 Mango\n"
          ],
          "name": "stdout"
        },
        {
          "output_type": "display_data",
          "data": {
            "image/png": "[encoded data removed]",
            "text/plain": [
              "<PIL.Image.Image image mode=RGB size=43x42 at 0x7F15A11A4278>"
            ]
          },
          "metadata": {
            "tags": []
          }
        },
        {
          "output_type": "stream",
          "text": [
            "0.0003495985 9 Mango\n"
          ],
          "name": "stdout"
        },
        {
          "output_type": "display_data",
          "data": {
            "image/png": "[encoded data removed]",
            "text/plain": [
              "<PIL.Image.Image image mode=RGB size=44x48 at 0x7F15A11A4CF8>"
            ]
          },
          "metadata": {
            "tags": []
          }
        },
        {
          "output_type": "stream",
          "text": [
            "0.028725384 1 Apricot\n"
          ],
          "name": "stdout"
        },
        {
          "output_type": "display_data",
          "data": {
            "image/png": "[encoded data removed]",
            "text/plain": [
              "<PIL.Image.Image image mode=RGB size=44x46 at 0x7F15A11A4E10>"
            ]
          },
          "metadata": {
            "tags": []
          }
        },
        {
          "output_type": "stream",
          "text": [
            "0.033371754 5 Clementine\n"
          ],
          "name": "stdout"
        },
        {
          "output_type": "display_data",
          "data": {
            "image/png": "[encoded data removed]",
            "text/plain": [
              "<PIL.Image.Image image mode=RGB size=45x48 at 0x7F15A11A4438>"
            ]
          },
          "metadata": {
            "tags": []
          }
        },
        {
          "output_type": "stream",
          "text": [
            "0.0023491138 4 Cherry 1\n"
          ],
          "name": "stdout"
        }
      ]
    },
    {
      "cell_type": "code",
      "metadata": {
        "id": "HupHM056THmb",
        "colab_type": "code",
        "outputId": "63b13694-945b-40b4-9c25-1f18bfa7c93c",
        "colab": {
          "base_uri": "https://localhost:8080/",
          "height": 34
        }
      },
      "source": [
        "image_path = 'banana.jpeg'\n",
        "img = image.load_img(image_path, target_size=(32,32,3))\n",
        "img = np.array(img)/255.\n",
        "ps = get_prediction(img, grouped_data, model)\n",
        "prob = np.min(ps)\n",
        "index = np.argmin(ps)\n",
        "print(prob, index, target_name[index])"
      ],
      "execution_count": 36,
      "outputs": [
        {
          "output_type": "stream",
          "text": [
            "0.066074274 3 Banana\n"
          ],
          "name": "stdout"
        }
      ]
    },
    {
      "cell_type": "code",
      "metadata": {
        "id": "j62xZBqtVhdK",
        "colab_type": "code",
        "outputId": "ccf599f0-df11-4031-d7ce-0e99ac1496ac",
        "colab": {
          "base_uri": "https://localhost:8080/",
          "height": 34
        }
      },
      "source": [
        "image_path = 'apple.jpg'\n",
        "img = image.load_img(image_path, target_size=(32,32,3))\n",
        "img = np.array(img)/255.\n",
        "ps = get_prediction(img, grouped_data, model)\n",
        "prob = np.min(ps)\n",
        "index = np.argmin(ps)\n",
        "print(prob, index, target_name[index])"
      ],
      "execution_count": 35,
      "outputs": [
        {
          "output_type": "stream",
          "text": [
            "0.32388407 5 Clementine\n"
          ],
          "name": "stdout"
        }
      ]
    },
    {
      "cell_type": "code",
      "metadata": {
        "id": "BMYdyb6XHBcw",
        "colab_type": "code",
        "outputId": "158cbf62-e4ce-44f7-9f75-665ee1314dda",
        "colab": {
          "base_uri": "https://localhost:8080/",
          "height": 34
        }
      },
      "source": [
        "image_path = 'clementine2.jpg'\n",
        "img = image.load_img(image_path, target_size=(32,32,3))\n",
        "img = np.array(img)/255.\n",
        "ps = get_prediction(img, grouped_data, model)\n",
        "prob = np.min(ps)\n",
        "index = np.argmin(ps)\n",
        "print(prob, index, target_name[index]) # 4th possible is clementine"
      ],
      "execution_count": 37,
      "outputs": [
        {
          "output_type": "stream",
          "text": [
            "0.17861387 5 Clementine\n"
          ],
          "name": "stdout"
        }
      ]
    },
    {
      "cell_type": "code",
      "metadata": {
        "id": "DfMT04xVHja6",
        "colab_type": "code",
        "outputId": "f845e987-14a6-4a66-dae5-ff668399c194",
        "colab": {
          "base_uri": "https://localhost:8080/",
          "height": 34
        }
      },
      "source": [
        "image_path = 'grape_blue.png'\n",
        "img = image.load_img(image_path, target_size=(32,32,3))\n",
        "img = np.array(img)/255.\n",
        "ps = get_prediction(img, grouped_data, model)\n",
        "prob = np.min(ps)\n",
        "index = np.argmin(ps)\n",
        "print(prob, index, target_name[index])"
      ],
      "execution_count": 44,
      "outputs": [
        {
          "output_type": "stream",
          "text": [
            "0.00031622776 7 Grape Blue\n"
          ],
          "name": "stdout"
        }
      ]
    },
    {
      "cell_type": "code",
      "metadata": {
        "id": "Bd9tF2EEHzYP",
        "colab_type": "code",
        "outputId": "9907025b-e0a7-4c5a-a25c-08074a1c0c2d",
        "colab": {
          "base_uri": "https://localhost:8080/",
          "height": 34
        }
      },
      "source": [
        "image_path = 'lemon.jpg'\n",
        "img = image.load_img(image_path, target_size=(32,32,3))\n",
        "img = np.array(img)/255.\n",
        "ps = get_prediction(img, grouped_data, model)\n",
        "prob = np.min(ps)\n",
        "index = np.argmin(ps)\n",
        "print(prob, index, target_name[index])"
      ],
      "execution_count": 39,
      "outputs": [
        {
          "output_type": "stream",
          "text": [
            "0.00084572873 8 Lemon\n"
          ],
          "name": "stdout"
        }
      ]
    },
    {
      "cell_type": "code",
      "metadata": {
        "id": "d4VVn6gF6yBN",
        "colab_type": "code",
        "colab": {}
      },
      "source": [
        ""
      ],
      "execution_count": 0,
      "outputs": []
    }
  ]
}